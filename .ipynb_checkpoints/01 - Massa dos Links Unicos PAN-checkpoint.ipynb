{
 "cells": [
  {
   "cell_type": "code",
   "execution_count": 1,
   "metadata": {},
   "outputs": [],
   "source": [
    "import pandas as pd"
   ]
  },
  {
   "cell_type": "code",
   "execution_count": 2,
   "metadata": {},
   "outputs": [
    {
     "data": {
      "text/html": [
       "<div>\n",
       "<style scoped>\n",
       "    .dataframe tbody tr th:only-of-type {\n",
       "        vertical-align: middle;\n",
       "    }\n",
       "\n",
       "    .dataframe tbody tr th {\n",
       "        vertical-align: top;\n",
       "    }\n",
       "\n",
       "    .dataframe thead th {\n",
       "        text-align: right;\n",
       "    }\n",
       "</style>\n",
       "<table border=\"1\" class=\"dataframe\">\n",
       "  <thead>\n",
       "    <tr style=\"text-align: right;\">\n",
       "      <th></th>\n",
       "      <th>Unnamed: 0</th>\n",
       "      <th>TABELA_DESTINO</th>\n",
       "      <th>TABELA_ORIGEM</th>\n",
       "      <th>TABELA_ORIGEM_SISTEMA</th>\n",
       "      <th>SISTEMA</th>\n",
       "      <th>ASSUNTO</th>\n",
       "    </tr>\n",
       "  </thead>\n",
       "  <tbody>\n",
       "    <tr>\n",
       "      <th>0</th>\n",
       "      <td>0</td>\n",
       "      <td>RL_CPE_CLIENTES</td>\n",
       "      <td>STG_CPE_CCLIE</td>\n",
       "      <td>CCLIE</td>\n",
       "      <td>EMPRESTIMO PESSOAL</td>\n",
       "      <td>CREDITO PESSOAL</td>\n",
       "    </tr>\n",
       "    <tr>\n",
       "      <th>1</th>\n",
       "      <td>32</td>\n",
       "      <td>RL_CPE_MODALIDADE</td>\n",
       "      <td>STG_CPE_TMODA</td>\n",
       "      <td>TMODA</td>\n",
       "      <td>EMPRESTIMO PESSOAL</td>\n",
       "      <td>CREDITO PESSOAL</td>\n",
       "    </tr>\n",
       "    <tr>\n",
       "      <th>2</th>\n",
       "      <td>64</td>\n",
       "      <td>RL_CPE_MOTIVO_ACORDO</td>\n",
       "      <td>STG_CPE_TMOTI</td>\n",
       "      <td>TMOTI</td>\n",
       "      <td>EMPRESTIMO PESSOAL</td>\n",
       "      <td>CREDITO PESSOAL</td>\n",
       "    </tr>\n",
       "    <tr>\n",
       "      <th>3</th>\n",
       "      <td>69</td>\n",
       "      <td>RL_CPE_MOV_FINANCEIRA</td>\n",
       "      <td>STG_CPE_EFINA</td>\n",
       "      <td>EFINA</td>\n",
       "      <td>EMPRESTIMO PESSOAL</td>\n",
       "      <td>CREDITO PESSOAL</td>\n",
       "    </tr>\n",
       "    <tr>\n",
       "      <th>4</th>\n",
       "      <td>74</td>\n",
       "      <td>RL_CPE_MOV_FINANCEIRA</td>\n",
       "      <td>NaN</td>\n",
       "      <td>EFINA</td>\n",
       "      <td>EMPRESTIMO PESSOAL</td>\n",
       "      <td>CREDITO PESSOAL</td>\n",
       "    </tr>\n",
       "  </tbody>\n",
       "</table>\n",
       "</div>"
      ],
      "text/plain": [
       "   Unnamed: 0         TABELA_DESTINO  TABELA_ORIGEM TABELA_ORIGEM_SISTEMA  \\\n",
       "0           0        RL_CPE_CLIENTES  STG_CPE_CCLIE                 CCLIE   \n",
       "1          32      RL_CPE_MODALIDADE  STG_CPE_TMODA                 TMODA   \n",
       "2          64   RL_CPE_MOTIVO_ACORDO  STG_CPE_TMOTI                 TMOTI   \n",
       "3          69  RL_CPE_MOV_FINANCEIRA  STG_CPE_EFINA                 EFINA   \n",
       "4          74  RL_CPE_MOV_FINANCEIRA            NaN                 EFINA   \n",
       "\n",
       "              SISTEMA          ASSUNTO  \n",
       "0  EMPRESTIMO PESSOAL  CREDITO PESSOAL  \n",
       "1  EMPRESTIMO PESSOAL  CREDITO PESSOAL  \n",
       "2  EMPRESTIMO PESSOAL  CREDITO PESSOAL  \n",
       "3  EMPRESTIMO PESSOAL  CREDITO PESSOAL  \n",
       "4  EMPRESTIMO PESSOAL  CREDITO PESSOAL  "
      ]
     },
     "execution_count": 2,
     "metadata": {},
     "output_type": "execute_result"
    }
   ],
   "source": [
    "df = pd.read_csv('unique_links.csv')\n",
    "df.head()"
   ]
  },
  {
   "cell_type": "code",
   "execution_count": 3,
   "metadata": {},
   "outputs": [
    {
     "data": {
      "text/html": [
       "<div>\n",
       "<style scoped>\n",
       "    .dataframe tbody tr th:only-of-type {\n",
       "        vertical-align: middle;\n",
       "    }\n",
       "\n",
       "    .dataframe tbody tr th {\n",
       "        vertical-align: top;\n",
       "    }\n",
       "\n",
       "    .dataframe thead th {\n",
       "        text-align: right;\n",
       "    }\n",
       "</style>\n",
       "<table border=\"1\" class=\"dataframe\">\n",
       "  <thead>\n",
       "    <tr style=\"text-align: right;\">\n",
       "      <th></th>\n",
       "      <th>TABELA_DESTINO</th>\n",
       "      <th>TABELA_ORIGEM</th>\n",
       "      <th>TABELA_ORIGEM_SISTEMA</th>\n",
       "      <th>SISTEMA</th>\n",
       "      <th>ASSUNTO</th>\n",
       "    </tr>\n",
       "  </thead>\n",
       "  <tbody>\n",
       "    <tr>\n",
       "      <th>0</th>\n",
       "      <td>RL_CPE_CLIENTES</td>\n",
       "      <td>STG_CPE_CCLIE</td>\n",
       "      <td>CCLIE</td>\n",
       "      <td>EMPRESTIMO PESSOAL</td>\n",
       "      <td>CREDITO PESSOAL</td>\n",
       "    </tr>\n",
       "    <tr>\n",
       "      <th>1</th>\n",
       "      <td>RL_CPE_MODALIDADE</td>\n",
       "      <td>STG_CPE_TMODA</td>\n",
       "      <td>TMODA</td>\n",
       "      <td>EMPRESTIMO PESSOAL</td>\n",
       "      <td>CREDITO PESSOAL</td>\n",
       "    </tr>\n",
       "    <tr>\n",
       "      <th>2</th>\n",
       "      <td>RL_CPE_MOTIVO_ACORDO</td>\n",
       "      <td>STG_CPE_TMOTI</td>\n",
       "      <td>TMOTI</td>\n",
       "      <td>EMPRESTIMO PESSOAL</td>\n",
       "      <td>CREDITO PESSOAL</td>\n",
       "    </tr>\n",
       "    <tr>\n",
       "      <th>3</th>\n",
       "      <td>RL_CPE_MOV_FINANCEIRA</td>\n",
       "      <td>STG_CPE_EFINA</td>\n",
       "      <td>EFINA</td>\n",
       "      <td>EMPRESTIMO PESSOAL</td>\n",
       "      <td>CREDITO PESSOAL</td>\n",
       "    </tr>\n",
       "    <tr>\n",
       "      <th>4</th>\n",
       "      <td>RL_CPE_MOV_FINANCEIRA</td>\n",
       "      <td>NaN</td>\n",
       "      <td>EFINA</td>\n",
       "      <td>EMPRESTIMO PESSOAL</td>\n",
       "      <td>CREDITO PESSOAL</td>\n",
       "    </tr>\n",
       "  </tbody>\n",
       "</table>\n",
       "</div>"
      ],
      "text/plain": [
       "          TABELA_DESTINO  TABELA_ORIGEM TABELA_ORIGEM_SISTEMA  \\\n",
       "0        RL_CPE_CLIENTES  STG_CPE_CCLIE                 CCLIE   \n",
       "1      RL_CPE_MODALIDADE  STG_CPE_TMODA                 TMODA   \n",
       "2   RL_CPE_MOTIVO_ACORDO  STG_CPE_TMOTI                 TMOTI   \n",
       "3  RL_CPE_MOV_FINANCEIRA  STG_CPE_EFINA                 EFINA   \n",
       "4  RL_CPE_MOV_FINANCEIRA            NaN                 EFINA   \n",
       "\n",
       "              SISTEMA          ASSUNTO  \n",
       "0  EMPRESTIMO PESSOAL  CREDITO PESSOAL  \n",
       "1  EMPRESTIMO PESSOAL  CREDITO PESSOAL  \n",
       "2  EMPRESTIMO PESSOAL  CREDITO PESSOAL  \n",
       "3  EMPRESTIMO PESSOAL  CREDITO PESSOAL  \n",
       "4  EMPRESTIMO PESSOAL  CREDITO PESSOAL  "
      ]
     },
     "execution_count": 3,
     "metadata": {},
     "output_type": "execute_result"
    }
   ],
   "source": [
    "df = df[df.columns[1:]]\n",
    "df.head()"
   ]
  },
  {
   "cell_type": "code",
   "execution_count": 4,
   "metadata": {},
   "outputs": [
    {
     "data": {
      "text/html": [
       "<div>\n",
       "<style scoped>\n",
       "    .dataframe tbody tr th:only-of-type {\n",
       "        vertical-align: middle;\n",
       "    }\n",
       "\n",
       "    .dataframe tbody tr th {\n",
       "        vertical-align: top;\n",
       "    }\n",
       "\n",
       "    .dataframe thead th {\n",
       "        text-align: right;\n",
       "    }\n",
       "</style>\n",
       "<table border=\"1\" class=\"dataframe\">\n",
       "  <thead>\n",
       "    <tr style=\"text-align: right;\">\n",
       "      <th></th>\n",
       "      <th>TABELA_DESTINO</th>\n",
       "      <th>TABELA_ORIGEM</th>\n",
       "      <th>TABELA_ORIGEM_SISTEMA</th>\n",
       "      <th>SISTEMA</th>\n",
       "      <th>ASSUNTO</th>\n",
       "    </tr>\n",
       "  </thead>\n",
       "  <tbody>\n",
       "    <tr>\n",
       "      <th>0</th>\n",
       "      <td>RL_CPE_CLIENTES</td>\n",
       "      <td>STG_CPE_CCLIE</td>\n",
       "      <td>CCLIE</td>\n",
       "      <td>EMPRESTIMO_PESSOAL</td>\n",
       "      <td>CREDITO_PESSOAL</td>\n",
       "    </tr>\n",
       "    <tr>\n",
       "      <th>1</th>\n",
       "      <td>RL_CPE_MODALIDADE</td>\n",
       "      <td>STG_CPE_TMODA</td>\n",
       "      <td>TMODA</td>\n",
       "      <td>EMPRESTIMO_PESSOAL</td>\n",
       "      <td>CREDITO_PESSOAL</td>\n",
       "    </tr>\n",
       "    <tr>\n",
       "      <th>2</th>\n",
       "      <td>RL_CPE_MOTIVO_ACORDO</td>\n",
       "      <td>STG_CPE_TMOTI</td>\n",
       "      <td>TMOTI</td>\n",
       "      <td>EMPRESTIMO_PESSOAL</td>\n",
       "      <td>CREDITO_PESSOAL</td>\n",
       "    </tr>\n",
       "    <tr>\n",
       "      <th>3</th>\n",
       "      <td>RL_CPE_MOV_FINANCEIRA</td>\n",
       "      <td>STG_CPE_EFINA</td>\n",
       "      <td>EFINA</td>\n",
       "      <td>EMPRESTIMO_PESSOAL</td>\n",
       "      <td>CREDITO_PESSOAL</td>\n",
       "    </tr>\n",
       "    <tr>\n",
       "      <th>4</th>\n",
       "      <td>RL_CPE_MOV_FINANCEIRA</td>\n",
       "      <td>NaN</td>\n",
       "      <td>EFINA</td>\n",
       "      <td>EMPRESTIMO_PESSOAL</td>\n",
       "      <td>CREDITO_PESSOAL</td>\n",
       "    </tr>\n",
       "  </tbody>\n",
       "</table>\n",
       "</div>"
      ],
      "text/plain": [
       "          TABELA_DESTINO  TABELA_ORIGEM TABELA_ORIGEM_SISTEMA  \\\n",
       "0        RL_CPE_CLIENTES  STG_CPE_CCLIE                 CCLIE   \n",
       "1      RL_CPE_MODALIDADE  STG_CPE_TMODA                 TMODA   \n",
       "2   RL_CPE_MOTIVO_ACORDO  STG_CPE_TMOTI                 TMOTI   \n",
       "3  RL_CPE_MOV_FINANCEIRA  STG_CPE_EFINA                 EFINA   \n",
       "4  RL_CPE_MOV_FINANCEIRA            NaN                 EFINA   \n",
       "\n",
       "              SISTEMA          ASSUNTO  \n",
       "0  EMPRESTIMO_PESSOAL  CREDITO_PESSOAL  \n",
       "1  EMPRESTIMO_PESSOAL  CREDITO_PESSOAL  \n",
       "2  EMPRESTIMO_PESSOAL  CREDITO_PESSOAL  \n",
       "3  EMPRESTIMO_PESSOAL  CREDITO_PESSOAL  \n",
       "4  EMPRESTIMO_PESSOAL  CREDITO_PESSOAL  "
      ]
     },
     "execution_count": 4,
     "metadata": {},
     "output_type": "execute_result"
    }
   ],
   "source": [
    "df.loc[:,'SISTEMA'] = df['SISTEMA'].apply(lambda x: x.replace(' ','_') if type(x) == str else '')\n",
    "df.loc[:,'ASSUNTO'] = df['ASSUNTO'].apply(lambda x: x.replace(' ','_') if type(x) == str else '')\n",
    "df.head()"
   ]
  },
  {
   "cell_type": "code",
   "execution_count": 5,
   "metadata": {},
   "outputs": [
    {
     "data": {
      "text/plain": [
       "TABELA_DESTINO                                    RL_JUR_CIVEL_CADASTRADOS\n",
       "TABELA_ORIGEM                                       RL_JUR_TBL_FUNCIONARIO\n",
       "TABELA_ORIGEM_SISTEMA    RL_JUR_TBL_COMARCA;RL_JUR_TBL_ESCRITORIO;RL_JU...\n",
       "SISTEMA                                                           JURIDICO\n",
       "ASSUNTO                                                           JURIDICO\n",
       "Name: 100, dtype: object"
      ]
     },
     "execution_count": 5,
     "metadata": {},
     "output_type": "execute_result"
    }
   ],
   "source": [
    "df.iloc[100,:].copy()"
   ]
  },
  {
   "cell_type": "code",
   "execution_count": 6,
   "metadata": {},
   "outputs": [],
   "source": [
    "lista_de_dicts = []"
   ]
  },
  {
   "cell_type": "code",
   "execution_count": 7,
   "metadata": {},
   "outputs": [
    {
     "data": {
      "text/plain": [
       "<class 'str'>      1624\n",
       "<class 'float'>     136\n",
       "Name: TABELA_ORIGEM_SISTEMA, dtype: int64"
      ]
     },
     "execution_count": 7,
     "metadata": {},
     "output_type": "execute_result"
    }
   ],
   "source": [
    "df['TABELA_ORIGEM_SISTEMA'].apply(type).value_counts()"
   ]
  },
  {
   "cell_type": "code",
   "execution_count": 8,
   "metadata": {},
   "outputs": [],
   "source": [
    "for linha in range(df.shape[0]):\n",
    "    cur_linha = df.iloc[linha,:].copy()\n",
    "    try:\n",
    "        lista_de_origens = cur_linha['TABELA_ORIGEM_SISTEMA'].split(';')\n",
    "    except:\n",
    "        lista_de_origens = [cur_linha['TABELA_ORIGEM_SISTEMA']]\n",
    "    for origem in lista_de_origens:\n",
    "        dictnovo = cur_linha.copy()\n",
    "        dictnovo['TABELA_ORIGEM_SISTEMA'] = origem\n",
    "        lista_de_dicts.append(dictnovo)"
   ]
  },
  {
   "cell_type": "code",
   "execution_count": 9,
   "metadata": {},
   "outputs": [],
   "source": [
    "df2 = pd.DataFrame(lista_de_dicts)"
   ]
  },
  {
   "cell_type": "code",
   "execution_count": 10,
   "metadata": {},
   "outputs": [
    {
     "data": {
      "text/html": [
       "<div>\n",
       "<style scoped>\n",
       "    .dataframe tbody tr th:only-of-type {\n",
       "        vertical-align: middle;\n",
       "    }\n",
       "\n",
       "    .dataframe tbody tr th {\n",
       "        vertical-align: top;\n",
       "    }\n",
       "\n",
       "    .dataframe thead th {\n",
       "        text-align: right;\n",
       "    }\n",
       "</style>\n",
       "<table border=\"1\" class=\"dataframe\">\n",
       "  <thead>\n",
       "    <tr style=\"text-align: right;\">\n",
       "      <th></th>\n",
       "      <th>TABELA_DESTINO</th>\n",
       "      <th>TABELA_ORIGEM</th>\n",
       "      <th>TABELA_ORIGEM_SISTEMA</th>\n",
       "      <th>SISTEMA</th>\n",
       "      <th>ASSUNTO</th>\n",
       "    </tr>\n",
       "  </thead>\n",
       "  <tbody>\n",
       "    <tr>\n",
       "      <th>0</th>\n",
       "      <td>RL_CPE_CLIENTES</td>\n",
       "      <td>STG_CPE_CCLIE</td>\n",
       "      <td>CCLIE</td>\n",
       "      <td>EMPRESTIMO_PESSOAL</td>\n",
       "      <td>CREDITO_PESSOAL</td>\n",
       "    </tr>\n",
       "    <tr>\n",
       "      <th>1</th>\n",
       "      <td>RL_CPE_MODALIDADE</td>\n",
       "      <td>STG_CPE_TMODA</td>\n",
       "      <td>TMODA</td>\n",
       "      <td>EMPRESTIMO_PESSOAL</td>\n",
       "      <td>CREDITO_PESSOAL</td>\n",
       "    </tr>\n",
       "    <tr>\n",
       "      <th>2</th>\n",
       "      <td>RL_CPE_MOTIVO_ACORDO</td>\n",
       "      <td>STG_CPE_TMOTI</td>\n",
       "      <td>TMOTI</td>\n",
       "      <td>EMPRESTIMO_PESSOAL</td>\n",
       "      <td>CREDITO_PESSOAL</td>\n",
       "    </tr>\n",
       "    <tr>\n",
       "      <th>3</th>\n",
       "      <td>RL_CPE_MOV_FINANCEIRA</td>\n",
       "      <td>STG_CPE_EFINA</td>\n",
       "      <td>EFINA</td>\n",
       "      <td>EMPRESTIMO_PESSOAL</td>\n",
       "      <td>CREDITO_PESSOAL</td>\n",
       "    </tr>\n",
       "    <tr>\n",
       "      <th>4</th>\n",
       "      <td>RL_CPE_MOV_FINANCEIRA</td>\n",
       "      <td>NaN</td>\n",
       "      <td>EFINA</td>\n",
       "      <td>EMPRESTIMO_PESSOAL</td>\n",
       "      <td>CREDITO_PESSOAL</td>\n",
       "    </tr>\n",
       "  </tbody>\n",
       "</table>\n",
       "</div>"
      ],
      "text/plain": [
       "          TABELA_DESTINO  TABELA_ORIGEM TABELA_ORIGEM_SISTEMA  \\\n",
       "0        RL_CPE_CLIENTES  STG_CPE_CCLIE                 CCLIE   \n",
       "1      RL_CPE_MODALIDADE  STG_CPE_TMODA                 TMODA   \n",
       "2   RL_CPE_MOTIVO_ACORDO  STG_CPE_TMOTI                 TMOTI   \n",
       "3  RL_CPE_MOV_FINANCEIRA  STG_CPE_EFINA                 EFINA   \n",
       "4  RL_CPE_MOV_FINANCEIRA            NaN                 EFINA   \n",
       "\n",
       "              SISTEMA          ASSUNTO  \n",
       "0  EMPRESTIMO_PESSOAL  CREDITO_PESSOAL  \n",
       "1  EMPRESTIMO_PESSOAL  CREDITO_PESSOAL  \n",
       "2  EMPRESTIMO_PESSOAL  CREDITO_PESSOAL  \n",
       "3  EMPRESTIMO_PESSOAL  CREDITO_PESSOAL  \n",
       "4  EMPRESTIMO_PESSOAL  CREDITO_PESSOAL  "
      ]
     },
     "execution_count": 10,
     "metadata": {},
     "output_type": "execute_result"
    }
   ],
   "source": [
    "df2.head()"
   ]
  },
  {
   "cell_type": "code",
   "execution_count": 25,
   "metadata": {},
   "outputs": [],
   "source": [
    "cons1 = df2[['TABELA_DESTINO','TABELA_ORIGEM']].dropna()\n",
    "cons1.columns = ['target','source']\n",
    "cons2 = df2[['TABELA_DESTINO','TABELA_ORIGEM_SISTEMA']].dropna()\n",
    "cons2.columns = ['target','source']\n",
    "cons3 = df2[['TABELA_ORIGEM','TABELA_ORIGEM_SISTEMA']].dropna()\n",
    "cons3.columns = ['target','source']\n",
    "\n",
    "df_cons = pd.concat([cons1,cons2,cons3])"
   ]
  },
  {
   "cell_type": "code",
   "execution_count": 26,
   "metadata": {},
   "outputs": [
    {
     "data": {
      "text/html": [
       "<div>\n",
       "<style scoped>\n",
       "    .dataframe tbody tr th:only-of-type {\n",
       "        vertical-align: middle;\n",
       "    }\n",
       "\n",
       "    .dataframe tbody tr th {\n",
       "        vertical-align: top;\n",
       "    }\n",
       "\n",
       "    .dataframe thead th {\n",
       "        text-align: right;\n",
       "    }\n",
       "</style>\n",
       "<table border=\"1\" class=\"dataframe\">\n",
       "  <thead>\n",
       "    <tr style=\"text-align: right;\">\n",
       "      <th></th>\n",
       "      <th>target</th>\n",
       "      <th>source</th>\n",
       "    </tr>\n",
       "  </thead>\n",
       "  <tbody>\n",
       "    <tr>\n",
       "      <th>0</th>\n",
       "      <td>RL_CPE_CLIENTES</td>\n",
       "      <td>STG_CPE_CCLIE</td>\n",
       "    </tr>\n",
       "    <tr>\n",
       "      <th>1</th>\n",
       "      <td>RL_CPE_MODALIDADE</td>\n",
       "      <td>STG_CPE_TMODA</td>\n",
       "    </tr>\n",
       "    <tr>\n",
       "      <th>2</th>\n",
       "      <td>RL_CPE_MOTIVO_ACORDO</td>\n",
       "      <td>STG_CPE_TMOTI</td>\n",
       "    </tr>\n",
       "    <tr>\n",
       "      <th>3</th>\n",
       "      <td>RL_CPE_MOV_FINANCEIRA</td>\n",
       "      <td>STG_CPE_EFINA</td>\n",
       "    </tr>\n",
       "    <tr>\n",
       "      <th>5</th>\n",
       "      <td>RL_CPE_MOV_OPERACOES</td>\n",
       "      <td>STG_CPE_EMOV1</td>\n",
       "    </tr>\n",
       "  </tbody>\n",
       "</table>\n",
       "</div>"
      ],
      "text/plain": [
       "                  target         source\n",
       "0        RL_CPE_CLIENTES  STG_CPE_CCLIE\n",
       "1      RL_CPE_MODALIDADE  STG_CPE_TMODA\n",
       "2   RL_CPE_MOTIVO_ACORDO  STG_CPE_TMOTI\n",
       "3  RL_CPE_MOV_FINANCEIRA  STG_CPE_EFINA\n",
       "5   RL_CPE_MOV_OPERACOES  STG_CPE_EMOV1"
      ]
     },
     "execution_count": 26,
     "metadata": {},
     "output_type": "execute_result"
    }
   ],
   "source": [
    "df_cons.head()"
   ]
  },
  {
   "cell_type": "code",
   "execution_count": 98,
   "metadata": {},
   "outputs": [],
   "source": [
    "df_cons['frequencia_H'] = [randint(1,50) for n in range(df_cons.shape[0])]\n",
    "df_cons['protocolo'] = [choice(['JDBC','Bluetooth','USB3.0','DVD','Fumaça']) for n in range(df_cons.shape[0])]"
   ]
  },
  {
   "cell_type": "code",
   "execution_count": 15,
   "metadata": {
    "collapsed": true,
    "jupyter": {
     "outputs_hidden": true
    }
   },
   "outputs": [
    {
     "name": "stderr",
     "output_type": "stream",
     "text": [
      "C:\\Users\\pedro\\.conda\\envs\\pedro\\lib\\site-packages\\ipykernel_launcher.py:2: SettingWithCopyWarning: \n",
      "A value is trying to be set on a copy of a slice from a DataFrame.\n",
      "Try using .loc[row_indexer,col_indexer] = value instead\n",
      "\n",
      "See the caveats in the documentation: https://pandas.pydata.org/pandas-docs/stable/user_guide/indexing.html#returning-a-view-versus-a-copy\n",
      "  \n",
      "C:\\Users\\pedro\\.conda\\envs\\pedro\\lib\\site-packages\\ipykernel_launcher.py:4: SettingWithCopyWarning: \n",
      "A value is trying to be set on a copy of a slice from a DataFrame\n",
      "\n",
      "See the caveats in the documentation: https://pandas.pydata.org/pandas-docs/stable/user_guide/indexing.html#returning-a-view-versus-a-copy\n",
      "  after removing the cwd from sys.path.\n",
      "C:\\Users\\pedro\\.conda\\envs\\pedro\\lib\\site-packages\\ipykernel_launcher.py:6: SettingWithCopyWarning: \n",
      "A value is trying to be set on a copy of a slice from a DataFrame.\n",
      "Try using .loc[row_indexer,col_indexer] = value instead\n",
      "\n",
      "See the caveats in the documentation: https://pandas.pydata.org/pandas-docs/stable/user_guide/indexing.html#returning-a-view-versus-a-copy\n",
      "  \n",
      "C:\\Users\\pedro\\.conda\\envs\\pedro\\lib\\site-packages\\ipykernel_launcher.py:8: SettingWithCopyWarning: \n",
      "A value is trying to be set on a copy of a slice from a DataFrame\n",
      "\n",
      "See the caveats in the documentation: https://pandas.pydata.org/pandas-docs/stable/user_guide/indexing.html#returning-a-view-versus-a-copy\n",
      "  \n"
     ]
    }
   ],
   "source": [
    "node1 = df2[['TABELA_DESTINO']]\n",
    "node1['SISTEMA'] = 'BI_ODS'\n",
    "node1.columns = ['NOME','SISTEMA']\n",
    "node1.drop_duplicates(inplace = True)\n",
    "node2= df2[['TABELA_ORIGEM']]\n",
    "node2['SISTEMA'] = 'BI_STAGE'\n",
    "node2.columns = ['NOME','SISTEMA']\n",
    "node2.drop_duplicates(inplace = True)\n",
    "node3= df2[['TABELA_ORIGEM_SISTEMA','SISTEMA']].drop_duplicates()\n",
    "node3.columns = ['NOME','SISTEMA']"
   ]
  },
  {
   "cell_type": "code",
   "execution_count": 17,
   "metadata": {},
   "outputs": [],
   "source": [
    "df3 = pd.concat([node1,node2,node3])"
   ]
  },
  {
   "cell_type": "code",
   "execution_count": 54,
   "metadata": {},
   "outputs": [],
   "source": [
    "df3['id'] = df3['SISTEMA']+'.'+df3['NOME']\n",
    "df3.rename(columns={'SISTEMA':'PLATAFORMA'}, inplace = True)"
   ]
  },
  {
   "cell_type": "code",
   "execution_count": 60,
   "metadata": {},
   "outputs": [
    {
     "data": {
      "text/html": [
       "<div>\n",
       "<style scoped>\n",
       "    .dataframe tbody tr th:only-of-type {\n",
       "        vertical-align: middle;\n",
       "    }\n",
       "\n",
       "    .dataframe tbody tr th {\n",
       "        vertical-align: top;\n",
       "    }\n",
       "\n",
       "    .dataframe thead th {\n",
       "        text-align: right;\n",
       "    }\n",
       "</style>\n",
       "<table border=\"1\" class=\"dataframe\">\n",
       "  <thead>\n",
       "    <tr style=\"text-align: right;\">\n",
       "      <th></th>\n",
       "      <th>NOME</th>\n",
       "      <th>PLATAFORMA</th>\n",
       "      <th>id</th>\n",
       "    </tr>\n",
       "  </thead>\n",
       "  <tbody>\n",
       "    <tr>\n",
       "      <th>0</th>\n",
       "      <td>RL_CPE_CLIENTES</td>\n",
       "      <td>BI_ODS</td>\n",
       "      <td>BI_ODS.RL_CPE_CLIENTES</td>\n",
       "    </tr>\n",
       "    <tr>\n",
       "      <th>1</th>\n",
       "      <td>RL_CPE_MODALIDADE</td>\n",
       "      <td>BI_ODS</td>\n",
       "      <td>BI_ODS.RL_CPE_MODALIDADE</td>\n",
       "    </tr>\n",
       "    <tr>\n",
       "      <th>2</th>\n",
       "      <td>RL_CPE_MOTIVO_ACORDO</td>\n",
       "      <td>BI_ODS</td>\n",
       "      <td>BI_ODS.RL_CPE_MOTIVO_ACORDO</td>\n",
       "    </tr>\n",
       "    <tr>\n",
       "      <th>3</th>\n",
       "      <td>RL_CPE_MOV_FINANCEIRA</td>\n",
       "      <td>BI_ODS</td>\n",
       "      <td>BI_ODS.RL_CPE_MOV_FINANCEIRA</td>\n",
       "    </tr>\n",
       "    <tr>\n",
       "      <th>5</th>\n",
       "      <td>RL_CPE_MOV_OPERACOES</td>\n",
       "      <td>BI_ODS</td>\n",
       "      <td>BI_ODS.RL_CPE_MOV_OPERACOES</td>\n",
       "    </tr>\n",
       "  </tbody>\n",
       "</table>\n",
       "</div>"
      ],
      "text/plain": [
       "                    NOME PLATAFORMA                            id\n",
       "0        RL_CPE_CLIENTES     BI_ODS        BI_ODS.RL_CPE_CLIENTES\n",
       "1      RL_CPE_MODALIDADE     BI_ODS      BI_ODS.RL_CPE_MODALIDADE\n",
       "2   RL_CPE_MOTIVO_ACORDO     BI_ODS   BI_ODS.RL_CPE_MOTIVO_ACORDO\n",
       "3  RL_CPE_MOV_FINANCEIRA     BI_ODS  BI_ODS.RL_CPE_MOV_FINANCEIRA\n",
       "5   RL_CPE_MOV_OPERACOES     BI_ODS   BI_ODS.RL_CPE_MOV_OPERACOES"
      ]
     },
     "execution_count": 60,
     "metadata": {},
     "output_type": "execute_result"
    }
   ],
   "source": [
    "df3.head()"
   ]
  },
  {
   "cell_type": "code",
   "execution_count": 77,
   "metadata": {},
   "outputs": [],
   "source": [
    "def randict():\n",
    "    dcols = ['col','dtype','descr','null','LGPD']\n",
    "    curd = pd.DataFrame(columns=dcols)\n",
    "    size = randint(5,100)\n",
    "    curd['col'] = [choice(lista_col) for x in range(size)]\n",
    "    curd['dtype'] = [choice(lista_dtypes) for x in range(size)]\n",
    "    curd['descr'] = [choice(lista_descr) for x in range(size)]\n",
    "    curd['null'] = [choice(lista_sn) for x in range(size)]\n",
    "    curd['LGPD'] = [choice(lista_LGPD) for x in range(size)]\n",
    "    curd['assunto'] = [list(set([choice(assuntos_dict) for n in range(randint(1,5))])) for n in range(size)]\n",
    "\n",
    "    curd.drop_duplicates(subset='col', inplace = True)\n",
    "    return curd"
   ]
  },
  {
   "cell_type": "code",
   "execution_count": 59,
   "metadata": {},
   "outputs": [],
   "source": [
    "assuntos_dict = ['clima','mercado','comida','viagens','sexo']"
   ]
  },
  {
   "cell_type": "code",
   "execution_count": 93,
   "metadata": {},
   "outputs": [],
   "source": [
    "assuntos_nos = list(df2['ASSUNTO'].unique())"
   ]
  },
  {
   "cell_type": "code",
   "execution_count": 35,
   "metadata": {},
   "outputs": [],
   "source": [
    "lista_dtypes = ['VARCHAR','FLOAT','INTEGER','BOOL']\n",
    "lista_sn = ['S','N']\n",
    "lista_LGPD = ['G','P','S']\n",
    "lista_descr = pd.read_excel('lista_frases.xlsx',sheet_name = 's1').squeeze()\n",
    "lista_col = pd.read_excel('lista_frases.xlsx',sheet_name = 's2').squeeze()"
   ]
  },
  {
   "cell_type": "code",
   "execution_count": 62,
   "metadata": {},
   "outputs": [],
   "source": [
    "df3['DESCR'] = [choice(lista_descr) for n in range(df3.shape[0])]\n",
    "df3['CONJUNTO'] = [choice(df2['ASSUNTO'].unique()) for n in range(df3.shape[0])]\n",
    "df3['CAMINHO'] = df3['id']\n",
    "df3['DESCR'] = [choice(lista_descr) for n in range(df3.shape[0])]\n",
    "df3['ASSUNTO'] = [list(set([choice(assuntos_nos) for n in range(randint(1,5))])) for n in range(df3.shape[0])]\n",
    "\n",
    "df3['DICIONARIO'] = [randict() for n in range(df3.shape[0])]"
   ]
  },
  {
   "cell_type": "code",
   "execution_count": 92,
   "metadata": {},
   "outputs": [],
   "source": [
    "#df3.drop_duplicates(subset=['id']).to_json('teste_com_dict2.json',orient='records')"
   ]
  }
 ],
 "metadata": {
  "kernelspec": {
   "display_name": "Python 3",
   "language": "python",
   "name": "python3"
  },
  "language_info": {
   "codemirror_mode": {
    "name": "ipython",
    "version": 3
   },
   "file_extension": ".py",
   "mimetype": "text/x-python",
   "name": "python",
   "nbconvert_exporter": "python",
   "pygments_lexer": "ipython3",
   "version": "3.7.9"
  }
 },
 "nbformat": 4,
 "nbformat_minor": 4
}
